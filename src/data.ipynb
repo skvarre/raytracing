{
 "cells": [
  {
   "cell_type": "code",
   "execution_count": 2,
   "metadata": {},
   "outputs": [],
   "source": [
    "import seaborn as sns\n",
    "import matplotlib.pyplot as plt\n",
    "import pandas as pd\n",
    "import os\n",
    "import glob\n",
    "\n",
    "sns.set_theme(style=\"whitegrid\")"
   ]
  },
  {
   "cell_type": "code",
   "execution_count": 4,
   "metadata": {},
   "outputs": [
    {
     "data": {
      "text/html": [
       "<div>\n",
       "<style scoped>\n",
       "    .dataframe tbody tr th:only-of-type {\n",
       "        vertical-align: middle;\n",
       "    }\n",
       "\n",
       "    .dataframe tbody tr th {\n",
       "        vertical-align: top;\n",
       "    }\n",
       "\n",
       "    .dataframe thead th {\n",
       "        text-align: right;\n",
       "    }\n",
       "</style>\n",
       "<table border=\"1\" class=\"dataframe\">\n",
       "  <thead>\n",
       "    <tr style=\"text-align: right;\">\n",
       "      <th></th>\n",
       "      <th>Spheres</th>\n",
       "      <th>Resolution</th>\n",
       "      <th>Time</th>\n",
       "    </tr>\n",
       "  </thead>\n",
       "  <tbody>\n",
       "    <tr>\n",
       "      <th>0</th>\n",
       "      <td>1</td>\n",
       "      <td>400x400</td>\n",
       "      <td>0.040967</td>\n",
       "    </tr>\n",
       "    <tr>\n",
       "      <th>1</th>\n",
       "      <td>1</td>\n",
       "      <td>400x400</td>\n",
       "      <td>0.042850</td>\n",
       "    </tr>\n",
       "    <tr>\n",
       "      <th>2</th>\n",
       "      <td>1</td>\n",
       "      <td>400x400</td>\n",
       "      <td>0.039844</td>\n",
       "    </tr>\n",
       "    <tr>\n",
       "      <th>3</th>\n",
       "      <td>1</td>\n",
       "      <td>400x400</td>\n",
       "      <td>0.040956</td>\n",
       "    </tr>\n",
       "    <tr>\n",
       "      <th>4</th>\n",
       "      <td>1</td>\n",
       "      <td>400x400</td>\n",
       "      <td>0.040220</td>\n",
       "    </tr>\n",
       "    <tr>\n",
       "      <th>...</th>\n",
       "      <td>...</td>\n",
       "      <td>...</td>\n",
       "      <td>...</td>\n",
       "    </tr>\n",
       "    <tr>\n",
       "      <th>445</th>\n",
       "      <td>9</td>\n",
       "      <td>400x400</td>\n",
       "      <td>0.677014</td>\n",
       "    </tr>\n",
       "    <tr>\n",
       "      <th>446</th>\n",
       "      <td>9</td>\n",
       "      <td>400x400</td>\n",
       "      <td>0.687907</td>\n",
       "    </tr>\n",
       "    <tr>\n",
       "      <th>447</th>\n",
       "      <td>9</td>\n",
       "      <td>400x400</td>\n",
       "      <td>0.681578</td>\n",
       "    </tr>\n",
       "    <tr>\n",
       "      <th>448</th>\n",
       "      <td>9</td>\n",
       "      <td>400x400</td>\n",
       "      <td>0.732931</td>\n",
       "    </tr>\n",
       "    <tr>\n",
       "      <th>449</th>\n",
       "      <td>9</td>\n",
       "      <td>400x400</td>\n",
       "      <td>0.615869</td>\n",
       "    </tr>\n",
       "  </tbody>\n",
       "</table>\n",
       "<p>450 rows × 3 columns</p>\n",
       "</div>"
      ],
      "text/plain": [
       "     Spheres Resolution      Time\n",
       "0          1    400x400  0.040967\n",
       "1          1    400x400  0.042850\n",
       "2          1    400x400  0.039844\n",
       "3          1    400x400  0.040956\n",
       "4          1    400x400  0.040220\n",
       "..       ...        ...       ...\n",
       "445        9    400x400  0.677014\n",
       "446        9    400x400  0.687907\n",
       "447        9    400x400  0.681578\n",
       "448        9    400x400  0.732931\n",
       "449        9    400x400  0.615869\n",
       "\n",
       "[450 rows x 3 columns]"
      ]
     },
     "metadata": {},
     "output_type": "display_data"
    },
    {
     "data": {
      "image/png": "[encoded data removed]",
      "text/plain": [
       "<Figure size 432x288 with 1 Axes>"
      ]
     },
     "metadata": {},
     "output_type": "display_data"
    }
   ],
   "source": [
    "joined_files = os.path.join(\"CPU_*_400x400.csv\")\n",
    "joined_list = glob.glob(joined_files)\n",
    "# tips2 = pd.read_csv('test1.csv')\n",
    "tips2 = pd.concat(map(pd.read_csv, joined_list), ignore_index=True)\n",
    "tips2.to_csv(\"CPU_400x400\")\n",
    "# tips2[\"Time\"] = tips2[\"Time\"].astype(\"double\")\n",
    "display(tips2)\n",
    "\n",
    "\n",
    "\n",
    "ax = sns.lineplot(x=\"Spheres\", y=\"Time\", hue=\"Resolution\", data=tips2)\n",
    "# ax.set_yscale(\"log\") # use log    "
   ]
  }
 ],
 "metadata": {
  "interpreter": {
   "hash": "fbd709de84fc1fb6732522e54b959550f77ff24f98a47889e3754079a0b37542"
  },
  "kernelspec": {
   "display_name": "Python 3.9.0 64-bit (system)",
   "language": "python",
   "name": "python3"
  },
  "language_info": {
   "codemirror_mode": {
    "name": "ipython",
    "version": 3
   },
   "file_extension": ".py",
   "mimetype": "text/x-python",
   "name": "python",
   "nbconvert_exporter": "python",
   "pygments_lexer": "ipython3",
   "version": "3.9.0"
  },
  "orig_nbformat": 4
 },
 "nbformat": 4,
 "nbformat_minor": 2
}
